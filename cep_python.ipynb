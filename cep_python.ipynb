{
 "cells": [
  {
   "cell_type": "code",
   "execution_count": 20,
   "metadata": {},
   "outputs": [],
   "source": [
    "import requests"
   ]
  },
  {
   "cell_type": "code",
   "execution_count": 51,
   "metadata": {},
   "outputs": [],
   "source": [
    "class ConsultarCep:\n",
    "    \n",
    "    def __init__(self, cep):\n",
    "        \n",
    "        if self.cep_e_valido(str(cep)):         \n",
    "            self.cep = str(cep)\n",
    "        else:\n",
    "            raise ValueError (\"CEP Inválido\")\n",
    "       \n",
    "    \n",
    "    def cep_e_valido(self,cep):\n",
    "        \n",
    "        if len(cep) == 8:\n",
    "            return True\n",
    "        else:\n",
    "            return False\n",
    "    \n",
    "    def formatar_cep(self):\n",
    "        return f'{self.cep[:2]}.{self.cep[2:5]}-{self.cep[5:]}'\n",
    "    \n",
    "    def __str__(self):\n",
    "        return self.formatar_cep()\n",
    "    \n",
    "    def consultar_cep(self):\n",
    "        r = requests.get(f'https://viacep.com.br/ws/{self.cep}/json/')\n",
    "        r = r.json()\n",
    "        return (\n",
    "            r['logradouro'],\n",
    "            r['bairro'],\n",
    "            r['localidade'],\n",
    "            r['uf'])\n",
    "            "
   ]
  },
  {
   "cell_type": "code",
   "execution_count": 59,
   "metadata": {},
   "outputs": [],
   "source": [
    "meu_cep = ConsultarCep(18060565)"
   ]
  },
  {
   "cell_type": "code",
   "execution_count": 60,
   "metadata": {},
   "outputs": [
    {
     "name": "stdout",
     "output_type": "stream",
     "text": [
      "18.060-565\n"
     ]
    }
   ],
   "source": [
    "print(meu_cep)"
   ]
  },
  {
   "cell_type": "code",
   "execution_count": 61,
   "metadata": {},
   "outputs": [],
   "source": [
    "rua, bairro, cidade, estado = meu_cep.consultar_cep()"
   ]
  },
  {
   "cell_type": "code",
   "execution_count": 62,
   "metadata": {},
   "outputs": [
    {
     "name": "stdout",
     "output_type": "stream",
     "text": [
      "Rua Itapetininga, Vila Trujillo, Sorocaba/SP\n"
     ]
    }
   ],
   "source": [
    "print(f'{rua}, {bairro}, {cidade}/{estado}')"
   ]
  },
  {
   "cell_type": "code",
   "execution_count": null,
   "metadata": {},
   "outputs": [],
   "source": []
  }
 ],
 "metadata": {
  "kernelspec": {
   "display_name": "Python 3",
   "language": "python",
   "name": "python3"
  },
  "language_info": {
   "codemirror_mode": {
    "name": "ipython",
    "version": 3
   },
   "file_extension": ".py",
   "mimetype": "text/x-python",
   "name": "python",
   "nbconvert_exporter": "python",
   "pygments_lexer": "ipython3",
   "version": "3.8.5"
  }
 },
 "nbformat": 4,
 "nbformat_minor": 4
}
